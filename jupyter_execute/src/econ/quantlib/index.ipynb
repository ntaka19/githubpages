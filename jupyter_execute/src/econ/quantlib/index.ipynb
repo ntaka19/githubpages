{
 "cells": [
  {
   "cell_type": "code",
   "execution_count": 1,
   "id": "1604ee4f",
   "metadata": {
    "execution": {
     "iopub.execute_input": "2024-02-04T13:14:15.325413Z",
     "iopub.status.busy": "2024-02-04T13:14:15.324960Z",
     "iopub.status.idle": "2024-02-04T13:14:15.576692Z",
     "shell.execute_reply": "2024-02-04T13:14:15.576400Z"
    }
   },
   "outputs": [
    {
     "data": {
      "text/plain": [
       "[Date(2,1,2015),\n",
       " Date(2,2,2015),\n",
       " Date(2,3,2015),\n",
       " Date(1,4,2015),\n",
       " Date(1,5,2015),\n",
       " Date(1,6,2015),\n",
       " Date(1,7,2015),\n",
       " Date(3,8,2015),\n",
       " Date(1,9,2015),\n",
       " Date(1,10,2015),\n",
       " Date(2,11,2015),\n",
       " Date(1,12,2015),\n",
       " Date(4,1,2016)]"
      ]
     },
     "execution_count": 1,
     "metadata": {},
     "output_type": "execute_result"
    }
   ],
   "source": [
    "import QuantLib as ql\n",
    "date1 = ql.Date(1, 1, 2015)\n",
    "\n",
    "date2 = date1 + ql.Period(1, ql.Years)\n",
    "tenor = ql.Period(ql.Monthly)\n",
    "#参考文献ではエラーが発生する。マーケットをパスする必要がある。\n",
    "calendar = ql.UnitedStates(ql.UnitedStates.NYSE)\n",
    "schedule = ql.Schedule(date1, date2, tenor, calendar, ql.Following, ql.Following, ql.DateGeneration.Forward, False)\n",
    "list(schedule)"
   ]
  },
  {
   "cell_type": "code",
   "execution_count": 2,
   "id": "91c72acb",
   "metadata": {
    "execution": {
     "iopub.execute_input": "2024-02-04T13:14:15.577873Z",
     "iopub.status.busy": "2024-02-04T13:14:15.577773Z",
     "iopub.status.idle": "2024-02-04T13:14:15.579749Z",
     "shell.execute_reply": "2024-02-04T13:14:15.579496Z"
    }
   },
   "outputs": [],
   "source": [
    "import QuantLib as ql\n",
    "\n",
    "todaysDate = ql.Date(15, 1, 2015)\n",
    "#annualRate = 0.05\n",
    "##dayCount = ql.ActualActual()\n",
    "#compoundType = ql.Compounded\n",
    "#frequency = ql.Annual\n",
    "#interestRate = ql.InterestRate(annualRate, dayCount, compoundType, frequency)\n",
    "\n",
    "#print(interestRate.compoundFactor(2.0))\n",
    "\n",
    "#print((1.0 + annualRate)*(1.0 + annualRate))"
   ]
  }
 ],
 "metadata": {
  "kernelspec": {
   "display_name": "Python 3 (ipykernel)",
   "language": "python",
   "name": "python3"
  },
  "language_info": {
   "codemirror_mode": {
    "name": "ipython",
    "version": 3
   },
   "file_extension": ".py",
   "mimetype": "text/x-python",
   "name": "python",
   "nbconvert_exporter": "python",
   "pygments_lexer": "ipython3",
   "version": "3.9.5"
  }
 },
 "nbformat": 4,
 "nbformat_minor": 5
}